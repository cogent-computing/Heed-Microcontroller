{
 "cells": [
  {
   "cell_type": "code",
   "execution_count": 3,
   "metadata": {},
   "outputs": [],
   "source": [
    "import sys\n",
    "\n",
    "sys.path.append(\"..\")\n",
    "\n",
    "from simulation_evaluation.microgrid_simulator import ControllEnvironment\n",
    "from simulation_evaluation.microgrid_ga import MicrogridGA\n",
    "from simulation_evaluation.microgrid_ga_v2 import MicrogridGA as MicrogridGAV2\n",
    "\n",
    "day_nr=18\n",
    "precision=1\n",
    "battery_power=4.1\n",
    "battery_max_discharge = 40.0\n",
    "pv_scale=0.4\n",
    "priorities=[1, 2, 3, 4, 5, 6, 7]\n",
    "\n",
    "#Custom Utility Function\n",
    "def evaluate_individual(individual):\n",
    "    return sum(individual['Battery_SoC']) / 100.0 / 24.0"
   ]
  },
  {
   "cell_type": "code",
   "execution_count": 4,
   "metadata": {},
   "outputs": [
    {
     "name": "stdout",
     "output_type": "stream",
     "text": [
      "🧬 GENERATION 0\n",
      "Started:  2020-06-26 13:36:20.464761\n",
      "Best Individual:  {'Nursery1_Lights_Quota': [0.5, 0.8, 0.7, 0.9, 0.1, 0.9, 0.1, 0.9, 0.5, 0.8, 0.9, 0.6, 0.8, 0.2, 0.4, 0.8, 0.2, 0.7, 0.9, 0.8, 0.2, 0.4, 0.3, 0.5], 'Nursery1_Sockets_Quota': [0.7, 0.9, 0.5, 0.3, 0.1, 0.8, 0.0, 0.6, 0.2, 0.8, 0.9, 0.9, 0.9, 0.8, 0.2, 0.3, 0.5, 0.5, 0.6, 0.1, 0.4, 1.0, 0.2, 0.9], 'Nursery2_Lights_Quota': [0.7, 0.0, 1.0, 0.2, 0.5, 0.2, 0.1, 0.4, 0.7, 0.1, 0.3, 0.7, 1.0, 0.4, 0.7, 0.2, 0.7, 0.0, 0.8, 1.0, 0.6, 0.7, 0.8, 0.5], 'Nursery2_Sockets_Quota': [0.9, 0.5, 0.4, 0.6, 0.8, 0.6, 0.4, 0.5, 0.0, 0.2, 0.3, 0.4, 0.5, 0.8, 0.1, 0.7, 0.3, 0.9, 0.8, 1.0, 0.8, 0.8, 0.5, 0.9], 'Playground_Lights_Quota': [0.4, 0.8, 0.2, 0.1, 0.1, 0.7, 0.2, 0.3, 0.7, 0.8, 0.2, 0.3, 0.1, 0.2, 1.0, 0.2, 0.7, 0.6, 0.6, 0.2, 0.6, 0.6, 0.9, 0.6], 'Playground_Sockets_Quota': [0.5, 0.2, 1.0, 0.0, 0.5, 0.8, 0.4, 0.6, 0.5, 0.7, 0.6, 0.5, 0.4, 0.2, 0.4, 0.5, 0.6, 0.8, 0.3, 0.5, 0.6, 0.1, 0.2, 0.9], 'Streetlights_Quota': [0.9, 0.9, 0.9, 0.6, 0.1, 0.7, 0.1, 0.7, 0.7, 0.2, 0.6, 0.5, 0.4, 0.0, 0.4, 1.0, 0.9, 0.4, 0.3, 0.3, 0.1, 0.6, 0.4, 0.3]}\n",
      "Best Score:  0.7063808540120173\n",
      "Elapsed Time: 0.08051037788391113\n",
      "🧬 GENERATION 1\n",
      "Started:  2020-06-26 13:36:20.544271\n",
      "Best Individual:  {'Nursery1_Lights_Quota': [0.5, 0.4, 0.5, 0.0, 0.6, 0.9, 0.5, 0.4, 0.9, 0.4, 0.6, 0.6, 0.5, 0.1, 0.4, 0.8, 0.8, 0.6, 0.6, 0.2, 0.3, 0.6, 0.3, 0.8], 'Nursery1_Sockets_Quota': [0.4, 0.5, 0.4, 0.5, 0.3, 0.8, 0.6, 0.8, 0.7, 0.7, 1.0, 0.5, 0.9, 0.7, 0.1, 0.3, 0.5, 0.6, 0.2, 0.2, 1.0, 0.7, 0.9, 0.9], 'Nursery2_Lights_Quota': [0.9, 0.4, 0.0, 0.2, 0.9, 0.2, 0.5, 0.2, 0.4, 0.1, 0.8, 0.7, 0.7, 0.8, 0.7, 0.2, 0.7, 0.3, 0.6, 0.2, 0.9, 0.0, 0.8, 1.0], 'Nursery2_Sockets_Quota': [1.0, 0.5, 0.2, 0.6, 0.5, 0.2, 0.8, 0.5, 0.0, 0.6, 0.6, 0.6, 0.8, 0.8, 0.1, 0.7, 0.8, 1.0, 0.9, 0.6, 0.4, 0.9, 0.9, 0.1], 'Playground_Lights_Quota': [0.4, 0.8, 0.6, 0.4, 0.1, 0.2, 0.4, 0.3, 0.7, 0.4, 0.5, 0.9, 0.4, 0.4, 0.2, 0.4, 0.4, 0.6, 0.1, 0.6, 0.1, 0.6, 0.9, 0.1], 'Playground_Sockets_Quota': [0.5, 0.8, 0.1, 0.4, 0.2, 0.4, 0.8, 0.2, 0.6, 0.4, 0.9, 0.4, 0.3, 0.8, 0.5, 0.1, 0.3, 0.7, 0.3, 0.1, 0.6, 0.5, 0.5, 0.4], 'Streetlights_Quota': [0.5, 0.8, 0.1, 0.1, 0.8, 0.0, 0.3, 0.6, 0.9, 0.3, 0.5, 0.5, 1.0, 0.2, 0.3, 0.4, 0.9, 0.8, 0.5, 1.0, 0.4, 0.0, 0.9, 0.9]}\n",
      "Best Score:  0.7813030381831395\n",
      "Elapsed Time: 0.39655041694641113\n",
      "\n",
      "🔬 FINAL RESULT\n",
      "Best Individual:  {'Nursery1_Lights_Quota': [0.5, 0.4, 0.5, 0.0, 0.6, 0.9, 0.5, 0.4, 0.9, 0.4, 0.6, 0.6, 0.5, 0.1, 0.4, 0.8, 0.8, 0.6, 0.6, 0.2, 0.3, 0.6, 0.3, 0.8], 'Nursery1_Sockets_Quota': [0.4, 0.5, 0.4, 0.5, 0.3, 0.8, 0.6, 0.8, 0.7, 0.7, 1.0, 0.5, 0.9, 0.7, 0.1, 0.3, 0.5, 0.6, 0.2, 0.2, 1.0, 0.7, 0.9, 0.9], 'Nursery2_Lights_Quota': [0.9, 0.4, 0.0, 0.2, 0.9, 0.2, 0.5, 0.2, 0.4, 0.1, 0.8, 0.7, 0.7, 0.8, 0.7, 0.2, 0.7, 0.3, 0.6, 0.2, 0.9, 0.0, 0.8, 1.0], 'Nursery2_Sockets_Quota': [1.0, 0.5, 0.2, 0.6, 0.5, 0.2, 0.8, 0.5, 0.0, 0.6, 0.6, 0.6, 0.8, 0.8, 0.1, 0.7, 0.8, 1.0, 0.9, 0.6, 0.4, 0.9, 0.9, 0.1], 'Playground_Lights_Quota': [0.4, 0.8, 0.6, 0.4, 0.1, 0.2, 0.4, 0.3, 0.7, 0.4, 0.5, 0.9, 0.4, 0.4, 0.2, 0.4, 0.4, 0.6, 0.1, 0.6, 0.1, 0.6, 0.9, 0.1], 'Playground_Sockets_Quota': [0.5, 0.8, 0.1, 0.4, 0.2, 0.4, 0.8, 0.2, 0.6, 0.4, 0.9, 0.4, 0.3, 0.8, 0.5, 0.1, 0.3, 0.7, 0.3, 0.1, 0.6, 0.5, 0.5, 0.4], 'Streetlights_Quota': [0.5, 0.8, 0.1, 0.1, 0.8, 0.0, 0.3, 0.6, 0.9, 0.3, 0.5, 0.5, 1.0, 0.2, 0.3, 0.4, 0.9, 0.8, 0.5, 1.0, 0.4, 0.0, 0.9, 0.9]}\n",
      "Best Score:  0.7813030381831395\n",
      "Elapsed Time: 0.39655041694641113\n",
      "History:  [0.7063808540120173, 0.7813030381831395]\n"
     ]
    }
   ],
   "source": [
    "##Extending the GA with prorietary Utility Calculation\n",
    "#Set Size and Generation Count\n",
    "my_ga = MicrogridGA(2, 2,day_nr=day_nr, precision=precision, battery_power=battery_power, \n",
    "                                               battery_max_discharge = battery_max_discharge, pv_scale=pv_scale,\n",
    "                    priorities=priorities,step_type=\"percentage\", mutate_chance=0.2, elit_perc=0.05)\n",
    "#Redefine to new function\n",
    "my_ga.evaluate_individual = evaluate_individual\n",
    "my_ga.run()"
   ]
  },
  {
   "cell_type": "code",
   "execution_count": 5,
   "metadata": {},
   "outputs": [
    {
     "name": "stdout",
     "output_type": "stream",
     "text": [
      "🧬 GENERATION 0\n",
      "Started:  2020-06-26 13:36:24.168232\n",
      "Best Individual:  {'Nursery1_Lights_Quota': [0.8, 0.2, 0.8, 0.5, 0.9, 0.6, 1.0, 1.0, 0.1, 0.1, 0.9, 0.7, 0.8, 0.4, 0.7, 0.0, 0.7, 0.8, 0.8, 0.5, 0.0, 0.6, 0.5, 0.1], 'Nursery1_Sockets_Quota': [0.2, 0.8, 0.7, 0.9, 0.2, 0.7, 0.6, 0.3, 1.0, 0.7, 0.2, 1.0, 0.5, 0.7, 0.5, 0.4, 0.1, 0.3, 0.2, 0.8, 0.1, 0.4, 0.8, 0.9], 'Nursery2_Lights_Quota': [0.2, 0.5, 0.5, 0.0, 0.0, 0.7, 0.9, 0.8, 0.6, 0.8, 0.1, 0.1, 0.1, 0.6, 0.2, 0.8, 0.3, 0.9, 0.8, 0.3, 0.1, 0.8, 0.8, 0.8], 'Nursery2_Sockets_Quota': [0.6, 0.8, 0.7, 0.4, 0.1, 0.3, 0.2, 0.3, 0.4, 1.0, 0.9, 0.4, 0.3, 0.6, 0.2, 0.4, 0.1, 0.6, 0.6, 0.2, 0.0, 0.1, 0.7, 0.4], 'Playground_Lights_Quota': [0.8, 0.5, 0.6, 0.3, 0.4, 0.5, 0.1, 0.9, 0.8, 1.0, 0.4, 0.2, 0.6, 0.4, 0.0, 0.9, 0.1, 0.7, 0.1, 0.2, 0.8, 0.2, 0.7, 0.8], 'Playground_Sockets_Quota': [0.5, 0.6, 0.4, 0.1, 0.2, 0.0, 0.6, 1.0, 1.0, 0.3, 0.0, 0.7, 0.5, 0.9, 0.8, 0.1, 0.7, 0.5, 0.2, 0.2, 0.2, 0.1, 0.6, 0.2], 'Streetlights_Quota': [0.4, 0.6, 0.6, 0.5, 0.8, 0.8, 0.7, 0.6, 0.4, 0.8, 0.2, 0.8, 0.3, 0.1, 0.2, 0.3, 0.8, 0.2, 1.0, 0.9, 0.8, 0.7, 0.4, 0.1]}\n",
      "Best Score:  0.7063808540120173\n",
      "Elapsed Time: 0.0790097713470459\n",
      "🧬 GENERATION 1\n",
      "Started:  2020-06-26 13:36:24.246742\n",
      "Best Individual:  {'Nursery1_Lights_Quota': [0.6, 0.3, 0.7, 0.8, 0.6, 0.0, 0.2, 0.8, 0.6, 0.9, 0.9, 0.6, 0.4, 0.4, 0.1, 0.0, 0.8, 0.0, 0.8, 0.9, 0.6, 0.6, 0.5, 0.2], 'Nursery1_Sockets_Quota': [0.4, 1.0, 0.4, 0.6, 0.2, 0.5, 0.7, 0.4, 1.0, 0.4, 0.9, 0.2, 0.1, 0.7, 0.2, 0.6, 0.1, 1.0, 0.2, 0.5, 0.6, 0.4, 1.0, 0.9], 'Nursery2_Lights_Quota': [0.2, 0.5, 0.9, 0.8, 0.7, 0.7, 1.0, 0.1, 0.2, 0.8, 0.7, 0.9, 0.2, 0.7, 0.0, 0.8, 0.4, 0.9, 0.2, 0.3, 0.8, 0.1, 0.1, 0.5], 'Nursery2_Sockets_Quota': [0.1, 0.8, 0.7, 0.4, 0.6, 0.6, 0.5, 0.7, 0.4, 0.2, 0.6, 0.6, 0.3, 0.8, 0.2, 0.4, 0.2, 0.0, 0.6, 0.5, 0.0, 0.1, 0.7, 0.7], 'Playground_Lights_Quota': [0.8, 0.9, 0.2, 0.6, 0.0, 0.0, 0.7, 0.9, 0.8, 0.8, 0.4, 0.2, 0.3, 1.0, 0.7, 0.8, 0.1, 0.7, 0.7, 0.7, 0.9, 1.0, 0.0, 0.8], 'Playground_Sockets_Quota': [0.5, 0.1, 0.1, 0.9, 0.6, 0.8, 0.6, 0.4, 0.6, 0.8, 0.0, 0.6, 0.6, 0.9, 0.2, 0.1, 0.4, 0.6, 0.6, 0.4, 0.6, 0.1, 0.7, 0.2], 'Streetlights_Quota': [0.3, 0.6, 0.1, 0.5, 0.5, 0.6, 0.1, 0.8, 0.6, 0.8, 0.8, 0.2, 0.1, 0.3, 0.2, 0.1, 0.8, 0.9, 0.5, 0.9, 0.9, 0.5, 0.8, 0.8]}\n",
      "Best Score:  0.7913656219902722\n",
      "Elapsed Time: 0.3925495147705078\n",
      "\n",
      "🔬 FINAL RESULT\n",
      "Best Individual:  {'Nursery1_Lights_Quota': [0.6, 0.3, 0.7, 0.8, 0.6, 0.0, 0.2, 0.8, 0.6, 0.9, 0.9, 0.6, 0.4, 0.4, 0.1, 0.0, 0.8, 0.0, 0.8, 0.9, 0.6, 0.6, 0.5, 0.2], 'Nursery1_Sockets_Quota': [0.4, 1.0, 0.4, 0.6, 0.2, 0.5, 0.7, 0.4, 1.0, 0.4, 0.9, 0.2, 0.1, 0.7, 0.2, 0.6, 0.1, 1.0, 0.2, 0.5, 0.6, 0.4, 1.0, 0.9], 'Nursery2_Lights_Quota': [0.2, 0.5, 0.9, 0.8, 0.7, 0.7, 1.0, 0.1, 0.2, 0.8, 0.7, 0.9, 0.2, 0.7, 0.0, 0.8, 0.4, 0.9, 0.2, 0.3, 0.8, 0.1, 0.1, 0.5], 'Nursery2_Sockets_Quota': [0.1, 0.8, 0.7, 0.4, 0.6, 0.6, 0.5, 0.7, 0.4, 0.2, 0.6, 0.6, 0.3, 0.8, 0.2, 0.4, 0.2, 0.0, 0.6, 0.5, 0.0, 0.1, 0.7, 0.7], 'Playground_Lights_Quota': [0.8, 0.9, 0.2, 0.6, 0.0, 0.0, 0.7, 0.9, 0.8, 0.8, 0.4, 0.2, 0.3, 1.0, 0.7, 0.8, 0.1, 0.7, 0.7, 0.7, 0.9, 1.0, 0.0, 0.8], 'Playground_Sockets_Quota': [0.5, 0.1, 0.1, 0.9, 0.6, 0.8, 0.6, 0.4, 0.6, 0.8, 0.0, 0.6, 0.6, 0.9, 0.2, 0.1, 0.4, 0.6, 0.6, 0.4, 0.6, 0.1, 0.7, 0.2], 'Streetlights_Quota': [0.3, 0.6, 0.1, 0.5, 0.5, 0.6, 0.1, 0.8, 0.6, 0.8, 0.8, 0.2, 0.1, 0.3, 0.2, 0.1, 0.8, 0.9, 0.5, 0.9, 0.9, 0.5, 0.8, 0.8]}\n",
      "Best Score:  0.7913656219902722\n",
      "Elapsed Time: 0.3925495147705078\n",
      "History:  [0.7063808540120173, 0.7913656219902722]\n"
     ]
    }
   ],
   "source": [
    "##Extending the GA with prorietary Utility Calculation\n",
    "#Set Size and Generation Count\n",
    "my_ga2 = MicrogridGA(2, 2,day_nr=day_nr, precision=precision, battery_power=battery_power, \n",
    "                                               battery_max_discharge = battery_max_discharge, pv_scale=pv_scale,\n",
    "                    priorities=priorities,step_type=\"percentage\", mutate_chance=0.2, elit_perc=0.05)\n",
    "#Redefine to new function\n",
    "my_ga2.evaluate_individual = evaluate_individual\n",
    "my_ga2.run()"
   ]
  },
  {
   "cell_type": "code",
   "execution_count": 10,
   "metadata": {},
   "outputs": [
    {
     "data": {
      "text/plain": [
       "[0.7063808540120173, 0.7913656219902722]"
      ]
     },
     "execution_count": 10,
     "metadata": {},
     "output_type": "execute_result"
    }
   ],
   "source": [
    "[my_ga.history[x][0] for x in my_ga.history]"
   ]
  },
  {
   "cell_type": "code",
   "execution_count": null,
   "metadata": {},
   "outputs": [],
   "source": []
  }
 ],
 "metadata": {
  "kernelspec": {
   "display_name": "Python 3",
   "language": "python",
   "name": "python3"
  },
  "language_info": {
   "codemirror_mode": {
    "name": "ipython",
    "version": 3
   },
   "file_extension": ".py",
   "mimetype": "text/x-python",
   "name": "python",
   "nbconvert_exporter": "python",
   "pygments_lexer": "ipython3",
   "version": "3.7.1"
  }
 },
 "nbformat": 4,
 "nbformat_minor": 2
}
